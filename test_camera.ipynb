{
 "cells": [
  {
   "cell_type": "code",
   "execution_count": 1,
   "id": "9be697ad-3b0d-42c7-8a2c-485349a9894b",
   "metadata": {
    "ExecuteTime": {
     "end_time": "2023-12-13T05:06:11.082001800Z",
     "start_time": "2023-12-13T05:06:10.909776100Z"
    }
   },
   "outputs": [],
   "source": [
    "import cv2"
   ]
  },
  {
   "cell_type": "code",
   "execution_count": 6,
   "id": "3557bdab-edd5-4d61-9f14-935b8122fe7f",
   "metadata": {
    "ExecuteTime": {
     "end_time": "2023-12-13T05:07:02.839164200Z",
     "start_time": "2023-12-13T05:06:56.621379200Z"
    }
   },
   "outputs": [],
   "source": [
    "cap = cv2.VideoCapture(0)"
   ]
  },
  {
   "cell_type": "code",
   "execution_count": 7,
   "id": "5408717a-a7df-4bfc-a1cb-b5fcf5fad8be",
   "metadata": {
    "ExecuteTime": {
     "end_time": "2023-12-13T05:07:47.143302100Z",
     "start_time": "2023-12-13T05:07:02.843547500Z"
    }
   },
   "outputs": [],
   "source": [
    "while cap.isOpened():\n",
    "\n",
    "    ret, frame = cap.read()\n",
    "    cv2.imshow('frame', frame)\n",
    "    if cv2.waitKey(10) & 0xFF == ord('q'):\n",
    "        break\n",
    "\n",
    "cap.release()\n",
    "cv2.destroyAllWindows()"
   ]
  },
  {
   "cell_type": "code",
   "execution_count": null,
   "id": "b820f16a-1603-4959-a2e6-d2d70b061eed",
   "metadata": {},
   "outputs": [],
   "source": []
  }
 ],
 "metadata": {
  "kernelspec": {
   "display_name": "Python 3 (ipykernel)",
   "language": "python",
   "name": "python3"
  },
  "language_info": {
   "codemirror_mode": {
    "name": "ipython",
    "version": 3
   },
   "file_extension": ".py",
   "mimetype": "text/x-python",
   "name": "python",
   "nbconvert_exporter": "python",
   "pygments_lexer": "ipython3",
   "version": "3.9.18"
  }
 },
 "nbformat": 4,
 "nbformat_minor": 5
}
